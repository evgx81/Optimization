{
 "cells": [
  {
   "cell_type": "code",
   "execution_count": 1,
   "id": "6f1cdbd4",
   "metadata": {},
   "outputs": [],
   "source": [
    "import numpy as np"
   ]
  },
  {
   "cell_type": "code",
   "execution_count": 3,
   "id": "7d8844d5",
   "metadata": {},
   "outputs": [],
   "source": [
    "# Импортируем библиотеку matplotlib.pyplot\n",
    "import matplotlib.pyplot as plt\n",
    "%matplotlib inline"
   ]
  },
  {
   "cell_type": "code",
   "execution_count": 4,
   "id": "1ebfbd22",
   "metadata": {},
   "outputs": [],
   "source": [
    "from math import sin"
   ]
  },
  {
   "cell_type": "code",
   "execution_count": 5,
   "id": "5a16708e",
   "metadata": {},
   "outputs": [],
   "source": [
    "from math import sqrt"
   ]
  },
  {
   "cell_type": "code",
   "execution_count": 6,
   "id": "9df27561",
   "metadata": {},
   "outputs": [],
   "source": [
    "from math import log"
   ]
  },
  {
   "cell_type": "code",
   "execution_count": 8,
   "id": "5c3cf4bd",
   "metadata": {},
   "outputs": [],
   "source": [
    "from sympy import *"
   ]
  },
  {
   "cell_type": "code",
   "execution_count": 9,
   "id": "d0aad5a1",
   "metadata": {},
   "outputs": [],
   "source": [
    "def divide_segment(a, b, epsilon, delta):\n",
    "    u = (a + b) / 2\n",
    "    while abs(b - a) > epsilon:\n",
    "        if f(u-delta/2) > f(u+delta/2):\n",
    "            a = u\n",
    "        else:\n",
    "            b = u\n",
    "        u = (a + b) / 2\n",
    "    return u"
   ]
  },
  {
   "cell_type": "code",
   "execution_count": 10,
   "id": "d0451eb6",
   "metadata": {},
   "outputs": [],
   "source": [
    "def golden_section(a, b, epsilon): \n",
    "    u1 = a + float((3 - float(sqrt(5))) / 2) * (b - a)\n",
    "    u2 = a + float((float(sqrt(5)) - 1) / 2) * (b - a)\n",
    "    Y1 = f(u1)\n",
    "    Y2 = f(u2)\n",
    "    while abs(b - a) > epsilon:\n",
    "        if Y1 >= Y2:\n",
    "            a = u1\n",
    "            u1 = u2\n",
    "            Y1 = Y2\n",
    "            u2 = a + ((float(sqrt(5)) - 1) / 2) * (b - a)\n",
    "            Y2 = f(u2)\n",
    "        else:\n",
    "            b = u2\n",
    "            u2 = u1\n",
    "            Y2 = Y1\n",
    "            u1 = a + ((3 - float(sqrt(5))) / 2) * (b - a)\n",
    "            Y1 = f(u1)\n",
    "    u = (a + b) / 2\n",
    "    return u"
   ]
  },
  {
   "cell_type": "code",
   "execution_count": 11,
   "id": "3f1cdd9e",
   "metadata": {},
   "outputs": [],
   "source": [
    "# Заданная функция f(x)\n",
    "def f(u):\n",
    "    return u**2-3*u+u*log(u)"
   ]
  },
  {
   "cell_type": "code",
   "execution_count": 12,
   "id": "a2840ed9",
   "metadata": {},
   "outputs": [],
   "source": [
    "a = 1 # Начало отрезка [a, b]"
   ]
  },
  {
   "cell_type": "code",
   "execution_count": 13,
   "id": "163a4c5c",
   "metadata": {},
   "outputs": [],
   "source": [
    "b = 2 # Конец отрезка [a, b]"
   ]
  },
  {
   "cell_type": "code",
   "execution_count": 14,
   "id": "bc591371",
   "metadata": {},
   "outputs": [],
   "source": [
    "epsilon = 10**(-15) "
   ]
  },
  {
   "cell_type": "code",
   "execution_count": 15,
   "id": "92ba2c0b",
   "metadata": {},
   "outputs": [],
   "source": [
    "delta = 10**(-6)"
   ]
  },
  {
   "cell_type": "code",
   "execution_count": 16,
   "id": "d63fa2d6",
   "metadata": {},
   "outputs": [],
   "source": [
    "u = np.linspace(a, b, 1000)"
   ]
  },
  {
   "cell_type": "code",
   "execution_count": 17,
   "id": "e8bd9582",
   "metadata": {},
   "outputs": [],
   "source": [
    "Y = np.array([f(i) for i in u])"
   ]
  },
  {
   "cell_type": "code",
   "execution_count": 18,
   "id": "98aa8e4a",
   "metadata": {},
   "outputs": [
    {
     "data": {
      "image/png": "[encoded data removed]",
      "text/plain": [
       "<Figure size 640x480 with 1 Axes>"
      ]
     },
     "metadata": {},
     "output_type": "display_data"
    }
   ],
   "source": [
    "# Построение графика функции f\n",
    "plt.title(\"График функции f\")\n",
    "plt.ticklabel_format(style='plain')\n",
    "plt.plot(u, Y, '-g', label = 'f(x)')\n",
    "plt.ylabel('Y(u)')   \n",
    "plt.xlabel('u')\n",
    "plt.grid()"
   ]
  },
  {
   "cell_type": "code",
   "execution_count": 19,
   "id": "130e7409",
   "metadata": {},
   "outputs": [
    {
     "name": "stdout",
     "output_type": "stream",
     "text": [
      "Метод деления отрезка попалам: u* = 1.0000000000000004, Y(u*) = -2.00000000000000\n"
     ]
    }
   ],
   "source": [
    "sect_min = divide_segment(a, b, epsilon, delta)\n",
    "print(f\"Метод деления отрезка попалам: u* = {sect_min}, Y(u*) = {f(sect_min)}\")"
   ]
  },
  {
   "cell_type": "code",
   "execution_count": 20,
   "id": "a9abf124",
   "metadata": {},
   "outputs": [
    {
     "name": "stdout",
     "output_type": "stream",
     "text": [
      "Метод золотого сечения: u* = 1.000000008674195, Y(u*) = -2.00000000000000\n"
     ]
    }
   ],
   "source": [
    "gold_min = golden_section(a, b, epsilon)\n",
    "print(f\"Метод золотого сечения: u* = {gold_min}, Y(u*) = {f(gold_min)}\")"
   ]
  },
  {
   "cell_type": "code",
   "execution_count": 21,
   "id": "ee7a5132",
   "metadata": {},
   "outputs": [
    {
     "name": "stdout",
     "output_type": "stream",
     "text": [
      "2 + 1/x\n"
     ]
    }
   ],
   "source": [
    "x = Symbol('x')\n",
    "y = x**2-3*x+x*log(x)\n",
    "\n",
    "d2 = y.diff(x, 2)\n",
    "print(d2)"
   ]
  },
  {
   "cell_type": "code",
   "execution_count": 22,
   "id": "9b40f3fc",
   "metadata": {},
   "outputs": [],
   "source": [
    "def d2(u):\n",
    "    return 2 + 1/u"
   ]
  },
  {
   "cell_type": "code",
   "execution_count": 23,
   "id": "e56d88ed",
   "metadata": {},
   "outputs": [],
   "source": [
    "Y2 = np.array([d2(i) for i in u])"
   ]
  },
  {
   "cell_type": "code",
   "execution_count": 24,
   "id": "915e71d8",
   "metadata": {},
   "outputs": [
    {
     "data": {
      "image/png": "[encoded data removed]",
      "text/plain": [
       "<Figure size 640x480 with 1 Axes>"
      ]
     },
     "metadata": {},
     "output_type": "display_data"
    }
   ],
   "source": [
    "# Построение графика функции f''\n",
    "plt.title(\"График функции f\")\n",
    "plt.ticklabel_format(style='plain')\n",
    "plt.plot(u, Y2, '-g', label = 'f(x)')\n",
    "plt.ylabel('Y(u)')   \n",
    "plt.xlabel('u')\n",
    "plt.grid()"
   ]
  },
  {
   "cell_type": "code",
   "execution_count": null,
   "id": "2e897e98",
   "metadata": {},
   "outputs": [],
   "source": []
  }
 ],
 "metadata": {
  "kernelspec": {
   "display_name": "Python 3 (ipykernel)",
   "language": "python",
   "name": "python3"
  },
  "language_info": {
   "codemirror_mode": {
    "name": "ipython",
    "version": 3
   },
   "file_extension": ".py",
   "mimetype": "text/x-python",
   "name": "python",
   "nbconvert_exporter": "python",
   "pygments_lexer": "ipython3",
   "version": "3.10.6"
  }
 },
 "nbformat": 4,
 "nbformat_minor": 5
}
